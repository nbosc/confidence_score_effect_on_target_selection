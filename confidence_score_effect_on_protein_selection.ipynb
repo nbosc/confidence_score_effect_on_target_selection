{
 "cells": [
  {
   "cell_type": "code",
   "execution_count": 47,
   "metadata": {},
   "outputs": [],
   "source": [
    "from sqlalchemy import create_engine\n",
    "\n",
    "import pandas as pd\n",
    "import numpy as np\n",
    "\n",
    "\n",
    "import matplotlib.pyplot as plt\n",
    "from matplotlib_venn import venn2"
   ]
  },
  {
   "cell_type": "code",
   "execution_count": 74,
   "metadata": {},
   "outputs": [],
   "source": [
    "pd.options.display.max_rows = 30\n",
    "pd.options.display.max_colwidth = 1000"
   ]
  },
  {
   "cell_type": "markdown",
   "metadata": {},
   "source": [
    "## Database connexion"
   ]
  },
  {
   "cell_type": "code",
   "execution_count": 3,
   "metadata": {},
   "outputs": [],
   "source": [
    "# Personal login details in correct format for sqlalchemy\n",
    "\n",
    "with open('/Users/nbosc/notebooks/alchemy_nbosc_login.txt', 'r') as f:\n",
    "    engine = create_engine(f.read())"
   ]
  },
  {
   "cell_type": "markdown",
   "metadata": {},
   "source": [
    "##  Single protein - confidence score 9 (SP9)"
   ]
  },
  {
   "cell_type": "code",
   "execution_count": 51,
   "metadata": {},
   "outputs": [],
   "source": [
    "sql = '''\n",
    "SELECT a.DOC_ID\n",
    "    , h.year\n",
    "    , a.PCHEMBL_VALUE\n",
    "    , e.CANONICAL_SMILES\n",
    "    , c.CHEMBL_ID AS MOL_CHEMBLID\n",
    "    , g.CHEMBL_ID AS TARGET_CHEMBLID\n",
    "    , g.pref_name\n",
    "    , f.CONFIDENCE_SCORE\n",
    "    , g.target_type\n",
    "    , f.relationship_type\n",
    "    , g.organism\n",
    "FROM\n",
    "  CHEMBL_23.ACTIVITIES a JOIN CHEMBL_23.MOLECULE_HIERARCHY b ON a.MOLREGNO = b.MOLREGNO\n",
    "  JOIN CHEMBL_23.MOLECULE_DICTIONARY c ON b.PARENT_MOLREGNO = c.MOLREGNO\n",
    "  JOIN CHEMBL_23.COMPOUND_PROPERTIES d ON b.PARENT_MOLREGNO = d.MOLREGNO\n",
    "  JOIN CHEMBL_23.COMPOUND_STRUCTURES e ON b.PARENT_MOLREGNO = e.MOLREGNO\n",
    "  JOIN CHEMBL_23.ASSAYS f ON a.assay_id = f.assay_id\n",
    "  JOIN CHEMBL_23.TARGET_DICTIONARY g ON f.TID = g.TID\n",
    "  JOIN CHEMBL_23.DOCS h ON a.DOC_ID = h.DOC_ID\n",
    "WHERE\n",
    "   a.PCHEMBL_VALUE IS NOT null\n",
    "  AND (a.POTENTIAL_DUPLICATE = 0 OR a.POTENTIAL_DUPLICATE IS NULL)\n",
    "  AND a.DATA_VALIDITY_COMMENT IS NULL\n",
    "  AND g.TARGET_TYPE IN ('SINGLE PROTEIN')\n",
    "  AND f.src_id = 1\n",
    "  AND (NOT (a.ACTIVITY_COMMENT LIKE 'inconclusive' OR a.activity_comment LIKE 'undetermined')\n",
    "      OR a.ACTIVITY_COMMENT IS NULL)\n",
    "  AND d.PSA IS NOT NULL\n",
    "  AND f.confidence_score = 9\n",
    "'''\n",
    "df_sp9 = pd.read_sql(sql, engine)"
   ]
  },
  {
   "cell_type": "code",
   "execution_count": 52,
   "metadata": {},
   "outputs": [
    {
     "data": {
      "text/plain": [
       "3876"
      ]
     },
     "execution_count": 52,
     "metadata": {},
     "output_type": "execute_result"
    }
   ],
   "source": [
    "df_sp9.target_chemblid.nunique()"
   ]
  },
  {
   "cell_type": "markdown",
   "metadata": {},
   "source": [
    "##  Single protein - confidence score 8 (SP8)"
   ]
  },
  {
   "cell_type": "code",
   "execution_count": 53,
   "metadata": {},
   "outputs": [],
   "source": [
    "sql = '''\n",
    "SELECT a.DOC_ID\n",
    "    , h.year\n",
    "    , a.PCHEMBL_VALUE\n",
    "    , e.CANONICAL_SMILES\n",
    "    , c.CHEMBL_ID AS MOL_CHEMBLID\n",
    "    , g.CHEMBL_ID AS TARGET_CHEMBLID\n",
    "    , g.pref_name\n",
    "    , f.CONFIDENCE_SCORE\n",
    "    , g.target_type\n",
    "    , f.relationship_type\n",
    "    , g.organism\n",
    "FROM\n",
    "  CHEMBL_23.ACTIVITIES a JOIN CHEMBL_23.MOLECULE_HIERARCHY b ON a.MOLREGNO = b.MOLREGNO\n",
    "  JOIN CHEMBL_23.MOLECULE_DICTIONARY c ON b.PARENT_MOLREGNO = c.MOLREGNO\n",
    "  JOIN CHEMBL_23.COMPOUND_PROPERTIES d ON b.PARENT_MOLREGNO = d.MOLREGNO\n",
    "  JOIN CHEMBL_23.COMPOUND_STRUCTURES e ON b.PARENT_MOLREGNO = e.MOLREGNO\n",
    "  JOIN CHEMBL_23.ASSAYS f ON a.assay_id = f.assay_id\n",
    "  JOIN CHEMBL_23.TARGET_DICTIONARY g ON f.TID = g.TID\n",
    "  JOIN CHEMBL_23.DOCS h ON a.DOC_ID = h.DOC_ID\n",
    "WHERE\n",
    "   a.PCHEMBL_VALUE IS NOT null\n",
    "  AND (a.POTENTIAL_DUPLICATE = 0 OR a.POTENTIAL_DUPLICATE IS NULL)\n",
    "  AND a.DATA_VALIDITY_COMMENT IS NULL\n",
    "  AND g.TARGET_TYPE IN ('SINGLE PROTEIN')\n",
    "  AND f.src_id = 1\n",
    "  AND (NOT (a.ACTIVITY_COMMENT LIKE 'inconclusive' OR a.activity_comment LIKE 'undetermined')\n",
    "      OR a.ACTIVITY_COMMENT IS NULL)\n",
    "  AND d.PSA IS NOT NULL\n",
    "  AND f.confidence_score = 8\n",
    "'''\n",
    "df_sp8 = pd.read_sql(sql, engine)"
   ]
  },
  {
   "cell_type": "code",
   "execution_count": 54,
   "metadata": {},
   "outputs": [
    {
     "data": {
      "text/plain": [
       "2279"
      ]
     },
     "execution_count": 54,
     "metadata": {},
     "output_type": "execute_result"
    }
   ],
   "source": [
    "df_sp8.target_chemblid.nunique()"
   ]
  },
  {
   "cell_type": "markdown",
   "metadata": {},
   "source": [
    "#### What is the overlap between SP9 and SP8? "
   ]
  },
  {
   "cell_type": "code",
   "execution_count": 57,
   "metadata": {},
   "outputs": [
    {
     "data": {
      "image/png": "[encoded data removed]",
      "text/plain": [
       "<matplotlib.figure.Figure at 0x12d9216d8>"
      ]
     },
     "metadata": {},
     "output_type": "display_data"
    }
   ],
   "source": [
    "venn2([set(df_sp9.target_chemblid.tolist()), set(df_sp8.target_chemblid.tolist())], set_labels=['SP9', 'SP8'])\n",
    "plt.show()"
   ]
  },
  {
   "cell_type": "markdown",
   "metadata": {},
   "source": [
    "2/3 of SP8 are in SP9.<br>\n",
    "I do not think it is worth focusing on these 1652 proteins, i.e. merge the sp9 and the sp8 because that would mean build models of a mixture of  the protein with homologous proteins."
   ]
  },
  {
   "cell_type": "markdown",
   "metadata": {},
   "source": [
    "#### What about the 627 SP8 not in SP9? "
   ]
  },
  {
   "cell_type": "code",
   "execution_count": 72,
   "metadata": {},
   "outputs": [],
   "source": [
    "df_sp8_no_sp9 = df_sp8.loc[~df_sp8.target_chemblid.isin(df_sp9.target_chemblid)]"
   ]
  },
  {
   "cell_type": "code",
   "execution_count": 75,
   "metadata": {},
   "outputs": [
    {
     "data": {
      "text/html": [
       "<div>\n",
       "<style scoped>\n",
       "    .dataframe tbody tr th:only-of-type {\n",
       "        vertical-align: middle;\n",
       "    }\n",
       "\n",
       "    .dataframe tbody tr th {\n",
       "        vertical-align: top;\n",
       "    }\n",
       "\n",
       "    .dataframe thead th {\n",
       "        text-align: right;\n",
       "    }\n",
       "</style>\n",
       "<table border=\"1\" class=\"dataframe\">\n",
       "  <thead>\n",
       "    <tr style=\"text-align: right;\">\n",
       "      <th></th>\n",
       "      <th>target_chemblid</th>\n",
       "      <th>organism</th>\n",
       "      <th>mol_chemblid</th>\n",
       "    </tr>\n",
       "  </thead>\n",
       "  <tbody>\n",
       "    <tr>\n",
       "      <th>248</th>\n",
       "      <td>CHEMBL2802</td>\n",
       "      <td>Clostridium perfringens (strain 13 / Type A)</td>\n",
       "      <td>239</td>\n",
       "    </tr>\n",
       "    <tr>\n",
       "      <th>355</th>\n",
       "      <td>CHEMBL3423</td>\n",
       "      <td>Escherichia coli K-12</td>\n",
       "      <td>219</td>\n",
       "    </tr>\n",
       "    <tr>\n",
       "      <th>346</th>\n",
       "      <td>CHEMBL3377</td>\n",
       "      <td>Influenza B virus (strain B/Lee/1940)</td>\n",
       "      <td>201</td>\n",
       "    </tr>\n",
       "    <tr>\n",
       "      <th>445</th>\n",
       "      <td>CHEMBL4028</td>\n",
       "      <td>Rattus norvegicus</td>\n",
       "      <td>160</td>\n",
       "    </tr>\n",
       "    <tr>\n",
       "      <th>219</th>\n",
       "      <td>CHEMBL2626</td>\n",
       "      <td>Sus scrofa</td>\n",
       "      <td>157</td>\n",
       "    </tr>\n",
       "    <tr>\n",
       "      <th>67</th>\n",
       "      <td>CHEMBL1939</td>\n",
       "      <td>Plasmodium falciparum K1</td>\n",
       "      <td>145</td>\n",
       "    </tr>\n",
       "    <tr>\n",
       "      <th>83</th>\n",
       "      <td>CHEMBL2026</td>\n",
       "      <td>Escherichia coli K-12</td>\n",
       "      <td>135</td>\n",
       "    </tr>\n",
       "    <tr>\n",
       "      <th>520</th>\n",
       "      <td>CHEMBL4620</td>\n",
       "      <td>Hepatitis C virus genotype 1a (isolate 1) (HCV)</td>\n",
       "      <td>131</td>\n",
       "    </tr>\n",
       "    <tr>\n",
       "      <th>538</th>\n",
       "      <td>CHEMBL4744</td>\n",
       "      <td>Bos taurus</td>\n",
       "      <td>119</td>\n",
       "    </tr>\n",
       "    <tr>\n",
       "      <th>185</th>\n",
       "      <td>CHEMBL2384</td>\n",
       "      <td>Rattus norvegicus</td>\n",
       "      <td>102</td>\n",
       "    </tr>\n",
       "    <tr>\n",
       "      <th>358</th>\n",
       "      <td>CHEMBL3446</td>\n",
       "      <td>Bos taurus</td>\n",
       "      <td>99</td>\n",
       "    </tr>\n",
       "    <tr>\n",
       "      <th>352</th>\n",
       "      <td>CHEMBL3414417</td>\n",
       "      <td>Saccharomyces cerevisiae (strain ATCC 204508 / S288c) (Baker's yeast)</td>\n",
       "      <td>99</td>\n",
       "    </tr>\n",
       "    <tr>\n",
       "      <th>399</th>\n",
       "      <td>CHEMBL3735</td>\n",
       "      <td>Homo sapiens</td>\n",
       "      <td>97</td>\n",
       "    </tr>\n",
       "    <tr>\n",
       "      <th>232</th>\n",
       "      <td>CHEMBL2676</td>\n",
       "      <td>Rattus norvegicus</td>\n",
       "      <td>82</td>\n",
       "    </tr>\n",
       "    <tr>\n",
       "      <th>461</th>\n",
       "      <td>CHEMBL4135</td>\n",
       "      <td>Homo sapiens</td>\n",
       "      <td>82</td>\n",
       "    </tr>\n",
       "    <tr>\n",
       "      <th>...</th>\n",
       "      <td>...</td>\n",
       "      <td>...</td>\n",
       "      <td>...</td>\n",
       "    </tr>\n",
       "    <tr>\n",
       "      <th>389</th>\n",
       "      <td>CHEMBL3680</td>\n",
       "      <td>Bos taurus</td>\n",
       "      <td>1</td>\n",
       "    </tr>\n",
       "    <tr>\n",
       "      <th>386</th>\n",
       "      <td>CHEMBL3670</td>\n",
       "      <td>Homo sapiens</td>\n",
       "      <td>1</td>\n",
       "    </tr>\n",
       "    <tr>\n",
       "      <th>157</th>\n",
       "      <td>CHEMBL2342</td>\n",
       "      <td>Homo sapiens</td>\n",
       "      <td>1</td>\n",
       "    </tr>\n",
       "    <tr>\n",
       "      <th>380</th>\n",
       "      <td>CHEMBL3627588</td>\n",
       "      <td>Saccharomyces cerevisiae (strain ATCC 204508 / S288c) (Baker's yeast)</td>\n",
       "      <td>1</td>\n",
       "    </tr>\n",
       "    <tr>\n",
       "      <th>499</th>\n",
       "      <td>CHEMBL4440</td>\n",
       "      <td>Rattus norvegicus</td>\n",
       "      <td>1</td>\n",
       "    </tr>\n",
       "    <tr>\n",
       "      <th>162</th>\n",
       "      <td>CHEMBL2366410</td>\n",
       "      <td>Loxostege sticticalis</td>\n",
       "      <td>1</td>\n",
       "    </tr>\n",
       "    <tr>\n",
       "      <th>480</th>\n",
       "      <td>CHEMBL4266</td>\n",
       "      <td>Homo sapiens</td>\n",
       "      <td>1</td>\n",
       "    </tr>\n",
       "    <tr>\n",
       "      <th>167</th>\n",
       "      <td>CHEMBL2366440</td>\n",
       "      <td>Bemisia tabaci</td>\n",
       "      <td>1</td>\n",
       "    </tr>\n",
       "    <tr>\n",
       "      <th>168</th>\n",
       "      <td>CHEMBL2366442</td>\n",
       "      <td>Crotalus adamanteus</td>\n",
       "      <td>1</td>\n",
       "    </tr>\n",
       "    <tr>\n",
       "      <th>170</th>\n",
       "      <td>CHEMBL2366458</td>\n",
       "      <td>Arabidopsis thaliana</td>\n",
       "      <td>1</td>\n",
       "    </tr>\n",
       "    <tr>\n",
       "      <th>174</th>\n",
       "      <td>CHEMBL2366477</td>\n",
       "      <td>Saccharomyces cerevisiae (strain ATCC 204508 / S288c) (Baker's yeast)</td>\n",
       "      <td>1</td>\n",
       "    </tr>\n",
       "    <tr>\n",
       "      <th>176</th>\n",
       "      <td>CHEMBL2366480</td>\n",
       "      <td>Escherichia coli (strain K12)</td>\n",
       "      <td>1</td>\n",
       "    </tr>\n",
       "    <tr>\n",
       "      <th>379</th>\n",
       "      <td>CHEMBL3617</td>\n",
       "      <td>Homo sapiens</td>\n",
       "      <td>1</td>\n",
       "    </tr>\n",
       "    <tr>\n",
       "      <th>179</th>\n",
       "      <td>CHEMBL2366499</td>\n",
       "      <td>Oryza sativa subsp. japonica</td>\n",
       "      <td>1</td>\n",
       "    </tr>\n",
       "    <tr>\n",
       "      <th>164</th>\n",
       "      <td>CHEMBL2366423</td>\n",
       "      <td>Lolium perenne</td>\n",
       "      <td>1</td>\n",
       "    </tr>\n",
       "  </tbody>\n",
       "</table>\n",
       "<p>627 rows × 3 columns</p>\n",
       "</div>"
      ],
      "text/plain": [
       "    target_chemblid                                                               organism  mol_chemblid\n",
       "248      CHEMBL2802                           Clostridium perfringens (strain 13 / Type A)           239\n",
       "355      CHEMBL3423                                                  Escherichia coli K-12           219\n",
       "346      CHEMBL3377                                  Influenza B virus (strain B/Lee/1940)           201\n",
       "445      CHEMBL4028                                                      Rattus norvegicus           160\n",
       "219      CHEMBL2626                                                             Sus scrofa           157\n",
       "67       CHEMBL1939                                               Plasmodium falciparum K1           145\n",
       "83       CHEMBL2026                                                  Escherichia coli K-12           135\n",
       "520      CHEMBL4620                        Hepatitis C virus genotype 1a (isolate 1) (HCV)           131\n",
       "538      CHEMBL4744                                                             Bos taurus           119\n",
       "185      CHEMBL2384                                                      Rattus norvegicus           102\n",
       "358      CHEMBL3446                                                             Bos taurus            99\n",
       "352   CHEMBL3414417  Saccharomyces cerevisiae (strain ATCC 204508 / S288c) (Baker's yeast)            99\n",
       "399      CHEMBL3735                                                           Homo sapiens            97\n",
       "232      CHEMBL2676                                                      Rattus norvegicus            82\n",
       "461      CHEMBL4135                                                           Homo sapiens            82\n",
       "..              ...                                                                    ...           ...\n",
       "389      CHEMBL3680                                                             Bos taurus             1\n",
       "386      CHEMBL3670                                                           Homo sapiens             1\n",
       "157      CHEMBL2342                                                           Homo sapiens             1\n",
       "380   CHEMBL3627588  Saccharomyces cerevisiae (strain ATCC 204508 / S288c) (Baker's yeast)             1\n",
       "499      CHEMBL4440                                                      Rattus norvegicus             1\n",
       "162   CHEMBL2366410                                                  Loxostege sticticalis             1\n",
       "480      CHEMBL4266                                                           Homo sapiens             1\n",
       "167   CHEMBL2366440                                                         Bemisia tabaci             1\n",
       "168   CHEMBL2366442                                                    Crotalus adamanteus             1\n",
       "170   CHEMBL2366458                                                   Arabidopsis thaliana             1\n",
       "174   CHEMBL2366477  Saccharomyces cerevisiae (strain ATCC 204508 / S288c) (Baker's yeast)             1\n",
       "176   CHEMBL2366480                                          Escherichia coli (strain K12)             1\n",
       "379      CHEMBL3617                                                           Homo sapiens             1\n",
       "179   CHEMBL2366499                                           Oryza sativa subsp. japonica             1\n",
       "164   CHEMBL2366423                                                         Lolium perenne             1\n",
       "\n",
       "[627 rows x 3 columns]"
      ]
     },
     "execution_count": 75,
     "metadata": {},
     "output_type": "execute_result"
    }
   ],
   "source": [
    "df_sp8_no_sp9.groupby(['target_chemblid', 'organism'])['mol_chemblid'].nunique().reset_index().sort_values('mol_chemblid', ascending = False)"
   ]
  },
  {
   "cell_type": "markdown",
   "metadata": {},
   "source": [
    "Few activities associated in the end. A dozen might be used but that is before processing the compound activities so I do think it is worth spending too much time on them. In addition, no human protein.\n",
    "\n",
    "### Conclusion\n",
    "I think SP8 should be ignored"
   ]
  },
  {
   "cell_type": "markdown",
   "metadata": {},
   "source": [
    "---"
   ]
  },
  {
   "cell_type": "markdown",
   "metadata": {},
   "source": [
    "##  Protein complex - confidence score 7 (PC7)"
   ]
  },
  {
   "cell_type": "code",
   "execution_count": 61,
   "metadata": {},
   "outputs": [],
   "source": [
    "sql = '''\n",
    "SELECT a.DOC_ID\n",
    "    , h.year\n",
    "    , a.PCHEMBL_VALUE\n",
    "    , e.CANONICAL_SMILES\n",
    "    , c.CHEMBL_ID AS MOL_CHEMBLID\n",
    "    , g.CHEMBL_ID AS TARGET_CHEMBLID\n",
    "    , g.pref_name\n",
    "    , f.CONFIDENCE_SCORE\n",
    "    , g.target_type\n",
    "    , f.relationship_type\n",
    "    , g.organism\n",
    "FROM\n",
    "  CHEMBL_23.ACTIVITIES a JOIN CHEMBL_23.MOLECULE_HIERARCHY b ON a.MOLREGNO = b.MOLREGNO\n",
    "  JOIN CHEMBL_23.MOLECULE_DICTIONARY c ON b.PARENT_MOLREGNO = c.MOLREGNO\n",
    "  JOIN CHEMBL_23.COMPOUND_PROPERTIES d ON b.PARENT_MOLREGNO = d.MOLREGNO\n",
    "  JOIN CHEMBL_23.COMPOUND_STRUCTURES e ON b.PARENT_MOLREGNO = e.MOLREGNO\n",
    "  JOIN CHEMBL_23.ASSAYS f ON a.assay_id = f.assay_id\n",
    "  JOIN CHEMBL_23.TARGET_DICTIONARY g ON f.TID = g.TID\n",
    "  JOIN CHEMBL_23.DOCS h ON a.DOC_ID = h.DOC_ID\n",
    "WHERE\n",
    "   a.PCHEMBL_VALUE IS NOT null\n",
    "  AND (a.POTENTIAL_DUPLICATE = 0 OR a.POTENTIAL_DUPLICATE IS NULL)\n",
    "  AND a.DATA_VALIDITY_COMMENT IS NULL\n",
    "  AND g.TARGET_TYPE IN ('PROTEIN COMPLEX')\n",
    "  AND f.src_id = 1\n",
    "  AND (NOT (a.ACTIVITY_COMMENT LIKE 'inconclusive' OR a.activity_comment LIKE 'undetermined')\n",
    "      OR a.ACTIVITY_COMMENT IS NULL)\n",
    "  AND d.PSA IS NOT NULL\n",
    "  AND f.confidence_score = 7\n",
    "'''\n",
    "df_pc7 = pd.read_sql(sql, engine)"
   ]
  },
  {
   "cell_type": "code",
   "execution_count": 62,
   "metadata": {},
   "outputs": [
    {
     "data": {
      "text/plain": [
       "169"
      ]
     },
     "execution_count": 62,
     "metadata": {},
     "output_type": "execute_result"
    }
   ],
   "source": [
    "df_pc7.target_chemblid.nunique()"
   ]
  },
  {
   "cell_type": "markdown",
   "metadata": {},
   "source": [
    "##  Protein complex - confidence score 6 (PC6)"
   ]
  },
  {
   "cell_type": "code",
   "execution_count": 64,
   "metadata": {},
   "outputs": [],
   "source": [
    "sql = '''\n",
    "SELECT a.DOC_ID\n",
    "    , h.year\n",
    "    , a.PCHEMBL_VALUE\n",
    "    , e.CANONICAL_SMILES\n",
    "    , c.CHEMBL_ID AS MOL_CHEMBLID\n",
    "    , g.CHEMBL_ID AS TARGET_CHEMBLID\n",
    "    , g.pref_name\n",
    "    , f.CONFIDENCE_SCORE\n",
    "    , g.target_type\n",
    "    , f.relationship_type\n",
    "    , g.organism\n",
    "FROM\n",
    "  CHEMBL_23.ACTIVITIES a JOIN CHEMBL_23.MOLECULE_HIERARCHY b ON a.MOLREGNO = b.MOLREGNO\n",
    "  JOIN CHEMBL_23.MOLECULE_DICTIONARY c ON b.PARENT_MOLREGNO = c.MOLREGNO\n",
    "  JOIN CHEMBL_23.COMPOUND_PROPERTIES d ON b.PARENT_MOLREGNO = d.MOLREGNO\n",
    "  JOIN CHEMBL_23.COMPOUND_STRUCTURES e ON b.PARENT_MOLREGNO = e.MOLREGNO\n",
    "  JOIN CHEMBL_23.ASSAYS f ON a.assay_id = f.assay_id\n",
    "  JOIN CHEMBL_23.TARGET_DICTIONARY g ON f.TID = g.TID\n",
    "  JOIN CHEMBL_23.DOCS h ON a.DOC_ID = h.DOC_ID\n",
    "WHERE\n",
    "   a.PCHEMBL_VALUE IS NOT null\n",
    "  AND (a.POTENTIAL_DUPLICATE = 0 OR a.POTENTIAL_DUPLICATE IS NULL)\n",
    "  AND a.DATA_VALIDITY_COMMENT IS NULL\n",
    "  AND g.TARGET_TYPE IN ('PROTEIN COMPLEX')\n",
    "  AND f.src_id = 1\n",
    "  AND (NOT (a.ACTIVITY_COMMENT LIKE 'inconclusive' OR a.activity_comment LIKE 'undetermined')\n",
    "      OR a.ACTIVITY_COMMENT IS NULL)\n",
    "  AND d.PSA IS NOT NULL\n",
    "  AND f.confidence_score = 6\n",
    "'''\n",
    "df_pc6 = pd.read_sql(sql, engine)"
   ]
  },
  {
   "cell_type": "code",
   "execution_count": 65,
   "metadata": {},
   "outputs": [
    {
     "data": {
      "text/plain": [
       "88"
      ]
     },
     "execution_count": 65,
     "metadata": {},
     "output_type": "execute_result"
    }
   ],
   "source": [
    "df_pc6.target_chemblid.nunique()"
   ]
  },
  {
   "cell_type": "markdown",
   "metadata": {},
   "source": [
    "#### What is the overlap between PC7 and PC6? "
   ]
  },
  {
   "cell_type": "code",
   "execution_count": 68,
   "metadata": {},
   "outputs": [
    {
     "data": {
      "image/png": "[encoded data removed]",
      "text/plain": [
       "<matplotlib.figure.Figure at 0x1389c3160>"
      ]
     },
     "metadata": {},
     "output_type": "display_data"
    }
   ],
   "source": [
    "venn2([set(df_pc7.target_chemblid.tolist()), set(df_pc6.target_chemblid.tolist())], set_labels=['PC7', 'PC6'])\n",
    "plt.show()"
   ]
  },
  {
   "cell_type": "markdown",
   "metadata": {},
   "source": [
    "4/5 of PC6 are in PC7.<br>"
   ]
  },
  {
   "cell_type": "markdown",
   "metadata": {},
   "source": [
    "#### What about the 627 SP8 not in SP9? "
   ]
  },
  {
   "cell_type": "code",
   "execution_count": 69,
   "metadata": {},
   "outputs": [],
   "source": [
    "df_pc6_no_pc7 = df_pc6.loc[~df_pc6.target_chemblid.isin(df_pc7.target_chemblid)]"
   ]
  },
  {
   "cell_type": "code",
   "execution_count": 70,
   "metadata": {},
   "outputs": [
    {
     "data": {
      "text/html": [
       "<div>\n",
       "<style scoped>\n",
       "    .dataframe tbody tr th:only-of-type {\n",
       "        vertical-align: middle;\n",
       "    }\n",
       "\n",
       "    .dataframe tbody tr th {\n",
       "        vertical-align: top;\n",
       "    }\n",
       "\n",
       "    .dataframe thead th {\n",
       "        text-align: right;\n",
       "    }\n",
       "</style>\n",
       "<table border=\"1\" class=\"dataframe\">\n",
       "  <thead>\n",
       "    <tr style=\"text-align: right;\">\n",
       "      <th></th>\n",
       "      <th>target_chemblid</th>\n",
       "      <th>organism</th>\n",
       "      <th>mol_chemblid</th>\n",
       "    </tr>\n",
       "  </thead>\n",
       "  <tbody>\n",
       "    <tr>\n",
       "      <th>1</th>\n",
       "      <td>CHEMBL2095173</td>\n",
       "      <td>Homo sapiens</td>\n",
       "      <td>220</td>\n",
       "    </tr>\n",
       "    <tr>\n",
       "      <th>0</th>\n",
       "      <td>CHEMBL1907597</td>\n",
       "      <td>Homo sapiens</td>\n",
       "      <td>24</td>\n",
       "    </tr>\n",
       "    <tr>\n",
       "      <th>2</th>\n",
       "      <td>CHEMBL2095199</td>\n",
       "      <td>Rattus norvegicus</td>\n",
       "      <td>21</td>\n",
       "    </tr>\n",
       "    <tr>\n",
       "      <th>6</th>\n",
       "      <td>CHEMBL2111402</td>\n",
       "      <td>Homo sapiens</td>\n",
       "      <td>20</td>\n",
       "    </tr>\n",
       "    <tr>\n",
       "      <th>5</th>\n",
       "      <td>CHEMBL2111362</td>\n",
       "      <td>Homo sapiens</td>\n",
       "      <td>10</td>\n",
       "    </tr>\n",
       "    <tr>\n",
       "      <th>4</th>\n",
       "      <td>CHEMBL2109238</td>\n",
       "      <td>Homo sapiens</td>\n",
       "      <td>8</td>\n",
       "    </tr>\n",
       "    <tr>\n",
       "      <th>9</th>\n",
       "      <td>CHEMBL613815</td>\n",
       "      <td>Septoria tritici</td>\n",
       "      <td>6</td>\n",
       "    </tr>\n",
       "    <tr>\n",
       "      <th>3</th>\n",
       "      <td>CHEMBL2109236</td>\n",
       "      <td>Homo sapiens</td>\n",
       "      <td>2</td>\n",
       "    </tr>\n",
       "    <tr>\n",
       "      <th>8</th>\n",
       "      <td>CHEMBL3638171</td>\n",
       "      <td>Oryctolagus cuniculus</td>\n",
       "      <td>2</td>\n",
       "    </tr>\n",
       "    <tr>\n",
       "      <th>7</th>\n",
       "      <td>CHEMBL2364672</td>\n",
       "      <td>Bacteria</td>\n",
       "      <td>1</td>\n",
       "    </tr>\n",
       "  </tbody>\n",
       "</table>\n",
       "</div>"
      ],
      "text/plain": [
       "  target_chemblid               organism  mol_chemblid\n",
       "1   CHEMBL2095173           Homo sapiens           220\n",
       "0   CHEMBL1907597           Homo sapiens            24\n",
       "2   CHEMBL2095199      Rattus norvegicus            21\n",
       "6   CHEMBL2111402           Homo sapiens            20\n",
       "5   CHEMBL2111362           Homo sapiens            10\n",
       "4   CHEMBL2109238           Homo sapiens             8\n",
       "9    CHEMBL613815       Septoria tritici             6\n",
       "3   CHEMBL2109236           Homo sapiens             2\n",
       "8   CHEMBL3638171  Oryctolagus cuniculus             2\n",
       "7   CHEMBL2364672               Bacteria             1"
      ]
     },
     "execution_count": 70,
     "metadata": {},
     "output_type": "execute_result"
    }
   ],
   "source": [
    "df_pc6_no_pc7.groupby(['target_chemblid', 'organism'])['mol_chemblid'].nunique().reset_index().sort_values('mol_chemblid', ascending = False)"
   ]
  },
  {
   "cell_type": "markdown",
   "metadata": {},
   "source": [
    "Very few activities associated except for [CHEMBL2095173](https://www.ebi.ac.uk/chembl/target/inspect/CHEMBL2095173).\n",
    "\n",
    "### Conclusion\n",
    "I think PC6 should be ignored"
   ]
  },
  {
   "cell_type": "code",
   "execution_count": null,
   "metadata": {},
   "outputs": [],
   "source": []
  }
 ],
 "metadata": {
  "anaconda-cloud": {},
  "kernelspec": {
   "display_name": "Python [conda root]",
   "language": "python",
   "name": "conda-root-py"
  },
  "language_info": {
   "codemirror_mode": {
    "name": "ipython",
    "version": 3
   },
   "file_extension": ".py",
   "mimetype": "text/x-python",
   "name": "python",
   "nbconvert_exporter": "python",
   "pygments_lexer": "ipython3",
   "version": "3.5.2"
  }
 },
 "nbformat": 4,
 "nbformat_minor": 2
}
